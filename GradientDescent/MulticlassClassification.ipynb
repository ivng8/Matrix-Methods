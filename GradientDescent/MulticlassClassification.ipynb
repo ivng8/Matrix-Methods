{
 "cells": [
  {
   "cell_type": "markdown",
   "metadata": {},
   "source": [
    "# Multilable (multiclass) Classification\n",
    "\n",
    "### We will apply multilabel classification techniques to the MNIST handwriting dataset, which contains pictures of hand written digits. In MNIST, the feature space is high dimensional (pixels) and there are 10 possible outputs: 0, 1, 2, ..., 9.\n",
    "\n",
    "<table>\n",
    "    <tr><td>\n",
    "        <img src=\"https://upload.wikimedia.org/wikipedia/commons/2/27/MnistExamples.png\" width=300px>\n",
    "        </td>\n",
    "        </td><td width=20px>\n",
    "            $$\\Rightarrow$$\n",
    "        </td>\n",
    "        <td width=40px>\n",
    "        <table><tr><td>0</td></tr><tr><td>1</td></tr><tr><td>2</td></tr><tr><td>3</td></tr>\n",
    "        <tr><td>4</td></tr><tr><td>5</td></tr><tr><td>6</td></tr><tr><td>7</td></tr><tr><td>8</td></tr>\n",
    "            <tr><td>9</td></tr>\n",
    "        </table>\n",
    "        </td>\n",
    "    </tr>\n",
    "</table>"
   ]
  },
  {
   "cell_type": "code",
   "execution_count": 1,
   "metadata": {},
   "outputs": [],
   "source": [
    "# import libraries\n",
    "import pandas as pd\n",
    "import numpy as np\n",
    "from matplotlib import pyplot as plt\n",
    "import seaborn as sns"
   ]
  },
  {
   "cell_type": "code",
   "execution_count": 2,
   "metadata": {},
   "outputs": [
    {
     "name": "stdout",
     "output_type": "stream",
     "text": [
      "(42000, 784)\n",
      "(42000,)\n"
     ]
    }
   ],
   "source": [
    "# reading the dataset\n",
    "MNIST_train = pd.read_csv(\"train.csv\") \n",
    "MNIST_test = pd.read_csv(\"train.csv\")\n",
    "\n",
    "# set training data and test data to the same set\n",
    "y_train = np.array(MNIST_train[\"label\"]) \n",
    "X_train = np.array(MNIST_train.drop(columns=[\"label\"]))\n",
    "\n",
    "y_test = np.array(MNIST_test[\"label\"])\n",
    "X_test = np.array(MNIST_test.drop(columns=[\"label\"]))\n",
    "\n",
    "print(X_train.shape) # there are 42000 data points each with 784=28x28 pixel values\n",
    "print(y_train.shape) # each data point has a label: 0, 1, 2, ..., or 9"
   ]
  },
  {
   "cell_type": "markdown",
   "metadata": {},
   "source": [
    "### 9 (a) Run the following to show the image and find out the label of the 701th data point. What is the label?"
   ]
  },
  {
   "cell_type": "code",
   "execution_count": 3,
   "metadata": {},
   "outputs": [
    {
     "name": "stdout",
     "output_type": "stream",
     "text": [
      "4\n"
     ]
    },
    {
     "data": {
      "image/png": "[encoded data removed]",
      "text/plain": [
       "<Figure size 640x480 with 1 Axes>"
      ]
     },
     "metadata": {},
     "output_type": "display_data"
    }
   ],
   "source": [
    "# look at the 701th data point\n",
    "plt.imshow(X_train[700].reshape(28,28), cmap='Greys')\n",
    "print(y_train[700])"
   ]
  },
  {
   "cell_type": "markdown",
   "metadata": {},
   "source": [
    "### 9 (b) Run the following code, what is the training accuracy of the model?"
   ]
  },
  {
   "cell_type": "code",
   "execution_count": 4,
   "metadata": {},
   "outputs": [
    {
     "name": "stdout",
     "output_type": "stream",
     "text": [
      "Logistic Regression Score: 0.868\n"
     ]
    }
   ],
   "source": [
    "from sklearn.linear_model import LogisticRegression # this is the multiclass (softmax) regression\n",
    "\n",
    "clf = LogisticRegression(solver='lbfgs', max_iter=1000) # solver is the choice of different Gradient Descent methods\n",
    "clf.fit(X_train[0:1000].reshape(-1, 28*28),y_train[0:1000]) # do the regression\n",
    "print(\"Logistic Regression Score: %.3f\"%clf.score(X_train.reshape(-1, 28*28),y_train)) "
   ]
  },
  {
   "cell_type": "markdown",
   "metadata": {},
   "source": [
    "### 9(c) Run the following code to upload a new image, did it make a correct recognition? What is the meaning of the probability output?"
   ]
  },
  {
   "cell_type": "code",
   "execution_count": 5,
   "metadata": {},
   "outputs": [
    {
     "data": {
      "text/plain": [
       "<matplotlib.image.AxesImage at 0x24a82e69490>"
      ]
     },
     "execution_count": 5,
     "metadata": {},
     "output_type": "execute_result"
    },
    {
     "data": {
      "image/png": "[encoded data removed]",
      "text/plain": [
       "<Figure size 640x480 with 1 Axes>"
      ]
     },
     "metadata": {},
     "output_type": "display_data"
    }
   ],
   "source": [
    "im = plt.imread(\"test_digit.png\")\n",
    "plt.imshow(im,cmap='Greys')"
   ]
  },
  {
   "cell_type": "code",
   "execution_count": 6,
   "metadata": {},
   "outputs": [
    {
     "name": "stdout",
     "output_type": "stream",
     "text": [
      "[7]\n",
      "[[2.11698401e-09 1.45667932e-23 2.17239038e-07 3.73229930e-12\n",
      "  1.57737490e-19 4.99872520e-08 9.83412394e-21 9.99999730e-01\n",
      "  5.53434851e-10 9.29968870e-15]]\n"
     ]
    }
   ],
   "source": [
    "# `X_train` has data stored between 0 and 255, `im[:,:,0]` has the background as 1 and the foreground as 0\n",
    "# We need to rescale `im[:,:,0]` to be on the same order as the classifier\n",
    "\n",
    "mypic = 255*(1-im[:,:,0].reshape(1,-1))\n",
    "print(clf.predict(mypic))\n",
    "print(clf.predict_proba(mypic))"
   ]
  },
  {
   "cell_type": "code",
   "execution_count": 7,
   "metadata": {},
   "outputs": [],
   "source": [
    "# The prabability output is the odds of the picture being classified as the digits between 0-9 respectively.\n",
    "# So the probability of it being 7 is about 99.9999% while the others are displayed in the rest of the array in order."
   ]
  },
  {
   "cell_type": "markdown",
   "metadata": {},
   "source": [
    "### (Optional) Create a 28x28 picture with handwritten digit (black on white) and repeat 9(c), did you get a good result? Don't worry if you didn't!"
   ]
  }
 ],
 "metadata": {
  "kernelspec": {
   "display_name": "Python 3 (ipykernel)",
   "language": "python",
   "name": "python3"
  },
  "language_info": {
   "codemirror_mode": {
    "name": "ipython",
    "version": 3
   },
   "file_extension": ".py",
   "mimetype": "text/x-python",
   "name": "python",
   "nbconvert_exporter": "python",
   "pygments_lexer": "ipython3",
   "version": "3.11.5"
  }
 },
 "nbformat": 4,
 "nbformat_minor": 2
}
