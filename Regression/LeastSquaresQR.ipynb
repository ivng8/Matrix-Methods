{
 "cells": [
  {
   "cell_type": "code",
   "execution_count": 1,
   "id": "339735d1",
   "metadata": {},
   "outputs": [],
   "source": [
    "# Importing libraries needed\n",
    "import numpy as np  # for matrices, array, linear algebra\n",
    "import pandas as pd  # open source data analysis and manipulation\n",
    "from numpy import *\n",
    "import scipy\n",
    "import scipy.linalg \n",
    "import matplotlib.pyplot as plt"
   ]
  },
  {
   "cell_type": "code",
   "execution_count": 2,
   "id": "19cc4760",
   "metadata": {},
   "outputs": [
    {
     "name": "stdout",
     "output_type": "stream",
     "text": [
      "   x  x2   x3    y\n",
      "0  0   0    0  1.0\n",
      "1  1   1    1  2.5\n",
      "2  2   4    8  3.0\n",
      "3  4  16   64  3.5\n",
      "4  5  25  125  3.0\n",
      "5  6  36  216  2.0\n",
      "6  8  64  512  2.5\n"
     ]
    }
   ],
   "source": [
    "# Importing the Dataset\n",
    "regression=pd.read_csv(\"HW7q1.csv\")\n",
    "\n",
    "print(regression)"
   ]
  },
  {
   "cell_type": "code",
   "execution_count": 3,
   "id": "f841505a",
   "metadata": {},
   "outputs": [
    {
     "name": "stdout",
     "output_type": "stream",
     "text": [
      "The shape of X is (7, 2) and the shape of Y is (7, 1)\n"
     ]
    }
   ],
   "source": [
    "# Construct X and Y for x\n",
    "X1=regression.x.values.reshape(-1, 1)\n",
    "Xdata_linear = np.array(X1[:,0]).T\n",
    "X_linear=np.vstack([np.ones(Xdata_linear.shape[0]),Xdata_linear.T]).T\n",
    "Y=regression.y.values.reshape(-1, 1)\n",
    "print(\"The shape of X is\", X_linear.shape, \"and the shape of Y is\", Y.shape)"
   ]
  },
  {
   "cell_type": "code",
   "execution_count": 4,
   "id": "64f621a5",
   "metadata": {},
   "outputs": [
    {
     "name": "stdout",
     "output_type": "stream",
     "text": [
      "Linear solution: theta_0= 2.1618497109826595 , theta_1= 0.0910404624277456\n"
     ]
    }
   ],
   "source": [
    "theta_linear=(np.linalg.solve(np.matmul(X_linear.T,X_linear),np.matmul(X_linear.T,Y)))\n",
    "print(\"Linear solution: theta_0=\", theta_linear[0][0], \", theta_1=\", theta_linear[1][0])"
   ]
  },
  {
   "cell_type": "code",
   "execution_count": 5,
   "id": "03cf7d6c",
   "metadata": {},
   "outputs": [
    {
     "name": "stdout",
     "output_type": "stream",
     "text": [
      "Linear mean RSS =  0.5129025598678777\n"
     ]
    }
   ],
   "source": [
    "linear_rss=np.linalg.norm(np.matmul(X_linear, theta_linear) - Y)**2/7\n",
    "print(\"Linear mean RSS = \", linear_rss)"
   ]
  },
  {
   "cell_type": "code",
   "execution_count": 6,
   "id": "a6104b60",
   "metadata": {},
   "outputs": [
    {
     "name": "stdout",
     "output_type": "stream",
     "text": [
      "Predicted y for x=3: 2.4349710982658963\n",
      "Predicted y for x=7: 2.7991329479768785\n"
     ]
    }
   ],
   "source": [
    "x_values = [3, 7]\n",
    "y_linear_predictions = [theta_linear[0][0] + theta_linear[1][0]*x for x in x_values]\n",
    "\n",
    "print(f\"Predicted y for x=3: {y_linear_predictions[0]}\")\n",
    "print(f\"Predicted y for x=7: {y_linear_predictions[1]}\")"
   ]
  },
  {
   "cell_type": "code",
   "execution_count": 7,
   "id": "26c0c491",
   "metadata": {},
   "outputs": [
    {
     "data": {
      "text/plain": [
       "<function matplotlib.pyplot.show(close=None, block=None)>"
      ]
     },
     "execution_count": 7,
     "metadata": {},
     "output_type": "execute_result"
    },
    {
     "data": {
      "image/png": "[encoded data removed]",
      "text/plain": [
       "<Figure size 640x480 with 1 Axes>"
      ]
     },
     "metadata": {},
     "output_type": "display_data"
    }
   ],
   "source": [
    "Y_pred = np.matmul(X_linear, theta_linear)\n",
    "\n",
    "fig,ax = plt.subplots()\n",
    "\n",
    "ax.plot(Xdata_linear, Y, 'x', color='Blue')\n",
    "plt.plot(Xdata_linear, Y_pred, color='red')\n",
    "\n",
    "plt.show"
   ]
  },
  {
   "cell_type": "code",
   "execution_count": 8,
   "id": "a64e7464",
   "metadata": {},
   "outputs": [
    {
     "name": "stdout",
     "output_type": "stream",
     "text": [
      "The shape of X is (7, 3) and the shape of Y is (7, 1)\n"
     ]
    }
   ],
   "source": [
    "X2=regression.x2.values.reshape(-1, 1)\n",
    "Xdata_quad = np.array([X1[:,0], X2[:,0]]).T\n",
    "X_quad=np.vstack([np.ones(Xdata_quad.shape[0]),Xdata_quad.T]).T\n",
    "print(\"The shape of X is\", X_quad.shape, \"and the shape of Y is\", Y.shape)"
   ]
  },
  {
   "cell_type": "code",
   "execution_count": 9,
   "id": "230c1363",
   "metadata": {},
   "outputs": [
    {
     "name": "stdout",
     "output_type": "stream",
     "text": [
      "Quadratic solution: theta_0= 1.4893117831074025 , theta_1= 0.7455465762947524 , theta_2= -0.08431091414668068\n"
     ]
    }
   ],
   "source": [
    "theta_quad=(np.linalg.solve(np.matmul(X_quad.T,X_quad),np.matmul(X_quad.T,Y)))\n",
    "print(\"Quadratic solution: theta_0=\", theta_quad[0][0], \", theta_1=\", theta_quad[1][0], \", theta_2=\", theta_quad[2][0])"
   ]
  },
  {
   "cell_type": "code",
   "execution_count": 10,
   "id": "b7958967",
   "metadata": {},
   "outputs": [
    {
     "name": "stdout",
     "output_type": "stream",
     "text": [
      "Quad mean RSS =  0.24270383335816076\n"
     ]
    }
   ],
   "source": [
    "quad_rss=np.linalg.norm(np.matmul(X_quad, theta_quad) - Y)**2/7\n",
    "print(\"Quad mean RSS = \", quad_rss)"
   ]
  },
  {
   "cell_type": "code",
   "execution_count": 11,
   "id": "00118ee4",
   "metadata": {},
   "outputs": [
    {
     "name": "stdout",
     "output_type": "stream",
     "text": [
      "Predicted y for x=3: 2.967153284671534\n",
      "Predicted y for x=7: 2.5769030239833164\n"
     ]
    }
   ],
   "source": [
    "y_quad_predictions = [theta_quad[0][0] + theta_quad[1][0]*x + theta_quad[2][0]*x**2 for x in x_values]\n",
    "\n",
    "print(f\"Predicted y for x=3: {y_quad_predictions[0]}\")\n",
    "print(f\"Predicted y for x=7: {y_quad_predictions[1]}\")"
   ]
  },
  {
   "cell_type": "code",
   "execution_count": 12,
   "id": "9159cd43",
   "metadata": {},
   "outputs": [
    {
     "data": {
      "text/plain": [
       "<function matplotlib.pyplot.show(close=None, block=None)>"
      ]
     },
     "execution_count": 12,
     "metadata": {},
     "output_type": "execute_result"
    },
    {
     "data": {
      "image/png": "[encoded data removed]",
      "text/plain": [
       "<Figure size 640x480 with 1 Axes>"
      ]
     },
     "metadata": {},
     "output_type": "display_data"
    }
   ],
   "source": [
    "Y_pred = np.matmul(X_quad, theta_quad)\n",
    "\n",
    "fig,ax = plt.subplots()\n",
    "\n",
    "ax.plot(Xdata_linear, Y, 'x', color='Blue')\n",
    "plt.plot(Xdata_linear, Y_pred, color='red')\n",
    "\n",
    "plt.show"
   ]
  },
  {
   "cell_type": "code",
   "execution_count": 13,
   "id": "46a3cbf0",
   "metadata": {},
   "outputs": [
    {
     "name": "stdout",
     "output_type": "stream",
     "text": [
      "The shape of X is (7, 4) and the shape of Y is (7, 1)\n"
     ]
    }
   ],
   "source": [
    "X3=regression.x3.values.reshape(-1, 1)\n",
    "Xdata_cubic = np.array([X1[:,0], X2[:,0], X3[:,0]]).T\n",
    "X_cubic=np.vstack([np.ones(Xdata_cubic.shape[0]),Xdata_cubic.T]).T\n",
    "print(\"The shape of X is\", X_cubic.shape, \"and the shape of Y is\", Y.shape)"
   ]
  },
  {
   "cell_type": "code",
   "execution_count": 14,
   "id": "59e23a5a",
   "metadata": {},
   "outputs": [
    {
     "name": "stdout",
     "output_type": "stream",
     "text": [
      "Cubic solution: theta_0= 0.9332253248197129 , theta_1= 2.029437614494321 , theta_2= -0.4999007274691065 , theta_3= 0.0336798606478393\n"
     ]
    }
   ],
   "source": [
    "theta_cubic=(np.linalg.solve(np.matmul(X_cubic.T,X_cubic),np.matmul(X_cubic.T,Y)))\n",
    "print(\"Cubic solution: theta_0=\", theta_cubic[0][0], \", theta_1=\", theta_cubic[1][0], \n",
    "      \", theta_2=\", theta_cubic[2][0], \", theta_3=\", theta_cubic[3][0])"
   ]
  },
  {
   "cell_type": "code",
   "execution_count": 15,
   "id": "89d05ea1",
   "metadata": {},
   "outputs": [
    {
     "name": "stdout",
     "output_type": "stream",
     "text": [
      "Cubic mean RSS =  0.05121328050900142\n"
     ]
    }
   ],
   "source": [
    "cubic_rss=np.linalg.norm(np.matmul(X_cubic, theta_cubic) - Y)**2/7\n",
    "print(\"Cubic mean RSS = \", cubic_rss)"
   ]
  },
  {
   "cell_type": "code",
   "execution_count": 16,
   "id": "9f73324c",
   "metadata": {},
   "outputs": [
    {
     "name": "stdout",
     "output_type": "stream",
     "text": [
      "Predicted y for x=3: 3.431787858572378\n",
      "Predicted y for x=7: 2.19634518250262\n"
     ]
    }
   ],
   "source": [
    "y_cubic_predictions = [theta_cubic[0][0] + theta_cubic[1][0]*x + theta_cubic[2][0]*x**2 + theta_cubic[3][0]*x**3 \n",
    "                       for x in x_values]\n",
    "\n",
    "print(f\"Predicted y for x=3: {y_cubic_predictions[0]}\")\n",
    "print(f\"Predicted y for x=7: {y_cubic_predictions[1]}\")"
   ]
  },
  {
   "cell_type": "code",
   "execution_count": 17,
   "id": "5e8adb60",
   "metadata": {},
   "outputs": [
    {
     "data": {
      "text/plain": [
       "<function matplotlib.pyplot.show(close=None, block=None)>"
      ]
     },
     "execution_count": 17,
     "metadata": {},
     "output_type": "execute_result"
    },
    {
     "data": {
      "image/png": "[encoded data removed]",
      "text/plain": [
       "<Figure size 640x480 with 1 Axes>"
      ]
     },
     "metadata": {},
     "output_type": "display_data"
    }
   ],
   "source": [
    "Y_pred = np.matmul(X_cubic, theta_cubic)\n",
    "\n",
    "fig,ax = plt.subplots()\n",
    "\n",
    "ax.plot(Xdata_linear, Y, 'x', color='Blue')\n",
    "plt.plot(Xdata_linear, Y_pred, color='red')\n",
    "\n",
    "plt.show"
   ]
  }
 ],
 "metadata": {
  "kernelspec": {
   "display_name": "Python 3 (ipykernel)",
   "language": "python",
   "name": "python3"
  },
  "language_info": {
   "codemirror_mode": {
    "name": "ipython",
    "version": 3
   },
   "file_extension": ".py",
   "mimetype": "text/x-python",
   "name": "python",
   "nbconvert_exporter": "python",
   "pygments_lexer": "ipython3",
   "version": "3.11.5"
  }
 },
 "nbformat": 4,
 "nbformat_minor": 5
}
