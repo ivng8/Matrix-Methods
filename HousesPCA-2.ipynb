{
 "cells": [
  {
   "cell_type": "markdown",
   "id": "e2665946",
   "metadata": {},
   "source": [
    "### Question 6(a) Run the next few cells (before part b) to normalize \"AgeHeight\", do regression, do PCA on the input variables, and do regression using the components from PCA (dimension reduction on the input variables)."
   ]
  },
  {
   "cell_type": "code",
   "execution_count": 1,
   "id": "6e30bcb8",
   "metadata": {},
   "outputs": [],
   "source": [
    "# Importing libraries needed\n",
    "import numpy as np  # for matrices, array, linear algebra\n",
    "import pandas as pd  # open source data analysis and manipulation\n",
    "import sklearn # for PCA and other statistical packages"
   ]
  },
  {
   "cell_type": "code",
   "execution_count": 2,
   "id": "a5f63eb7",
   "metadata": {},
   "outputs": [],
   "source": [
    "# Code for normalizing/standardizing data\n",
    "def Normdata(X):\n",
    "    Norm_X = X.copy()\n",
    "    names = list(X)\n",
    "    for i in names:\n",
    "        Norm_X[i] = (X[i]-X[i].mean())/X[i].std()\n",
    "    return Norm_X"
   ]
  },
  {
   "cell_type": "code",
   "execution_count": 3,
   "id": "ff8ccf6b",
   "metadata": {},
   "outputs": [],
   "source": [
    "# Code for regression using the Normal Equation (X.T*X)*theta = (X.T*y)\n",
    "def LinearReg(Xdata,Y):\n",
    "    X = np.vstack([np.ones(Xdata.shape[0]),Xdata.T]).T  # First, concatenate X with a column of ones on the left\n",
    "    theta=(np.linalg.solve(np.matmul(X.T,X),np.matmul(X.T,Y)))\n",
    "    print(\"Mean RSS = \",np.linalg.norm(np.matmul(X,theta) - Y)**2/X.shape[0])"
   ]
  },
  {
   "cell_type": "code",
   "execution_count": 4,
   "id": "cbc14b4f",
   "metadata": {},
   "outputs": [
    {
     "name": "stdout",
     "output_type": "stream",
     "text": [
      "Regression on normalized data\n",
      "Mean RSS =  0.21541950113378686\n"
     ]
    }
   ],
   "source": [
    "AGH=pd.read_csv(\"AgeHeight.csv\") \n",
    "names = list(AGH) # this gives us a list of column names\n",
    "\n",
    "print(\"Regression on normalized data\")\n",
    "Norm_AGH = Normdata(AGH)\n",
    "Xd = Norm_AGH[names[0:2]] # Data for Input/feature variables: first 2 columns\n",
    "Y = Norm_AGH.y # Output variable data\n",
    "LinearReg(Xd,Y)"
   ]
  },
  {
   "cell_type": "code",
   "execution_count": 5,
   "id": "934b5bd4",
   "metadata": {},
   "outputs": [
    {
     "name": "stdout",
     "output_type": "stream",
     "text": [
      "PCA on AgeHeight ormalized data\n",
      "First component:  [0.70710678 0.70710678] , variance explained:  94.19417382415922 %\n",
      "Second component:  [-0.70710678  0.70710678] , variance explained:  5.805826175840775 %\n"
     ]
    }
   ],
   "source": [
    "# PCA on AGH\n",
    "from sklearn.decomposition import PCA\n",
    "\n",
    "pca = PCA(n_components=2)\n",
    "pca.fit(Norm_AGH[names[0:2]])\n",
    "\n",
    "print(\"PCA on AgeHeight ormalized data\")\n",
    "print(\"First component: \", pca.components_[0], \", variance explained: \", 100*pca.explained_variance_ratio_[0], \"%\")\n",
    "print(\"Second component: \", pca.components_[1], \", variance explained: \", 100*pca.explained_variance_ratio_[1], \"%\")"
   ]
  },
  {
   "cell_type": "code",
   "execution_count": 6,
   "id": "ba9ae1bb",
   "metadata": {},
   "outputs": [
    {
     "name": "stdout",
     "output_type": "stream",
     "text": [
      "Regression on the first component:\n",
      "Mean RSS =  0.21872510166964712\n",
      "Regression on both components:\n",
      "Mean RSS =  0.21541950113378674\n"
     ]
    }
   ],
   "source": [
    "# Reduction of input dimension using PCA\n",
    "print(\"Regression on the first component:\")\n",
    "pca2 = PCA(n_components=1)\n",
    "Transformed_AGH = pca2.fit_transform(Norm_AGH[names[0:2]]) \n",
    "Y = Norm_AGH.y \n",
    "LinearReg(Transformed_AGH,Y)\n",
    "\n",
    "print(\"Regression on both components:\")\n",
    "pca2 = PCA(n_components=2)\n",
    "Transformed_AGH = pca2.fit_transform(Norm_AGH[names[0:2]]) \n",
    "Y = Norm_AGH.y \n",
    "LinearReg(Transformed_AGH,Y)"
   ]
  },
  {
   "cell_type": "markdown",
   "id": "5d8b4c4d",
   "metadata": {},
   "source": [
    "### Question 6(b) Write code to do repeat part (a) for \"Houses\". Note that there are four input variables in Houses, and we should include 1, 2, 3, 4 components in turn."
   ]
  },
  {
   "cell_type": "code",
   "execution_count": 7,
   "id": "f1238ab5",
   "metadata": {},
   "outputs": [
    {
     "name": "stdout",
     "output_type": "stream",
     "text": [
      "Regression on normalized data\n",
      "Mean RSS =  0.16118244781630114\n"
     ]
    }
   ],
   "source": [
    "HCSV = pd.read_csv(\"Houses.csv\")\n",
    "names = list(HCSV)\n",
    "\n",
    "print(\"Regression on normalized data\")\n",
    "Norm_HCSV = Normdata(HCSV)\n",
    "Xd = Norm_HCSV[names[0:4]] # Data for Input/feature variables: first 4 columns\n",
    "Y = Norm_HCSV.PRICE # Output variable data\n",
    "LinearReg(Xd,Y)"
   ]
  },
  {
   "cell_type": "code",
   "execution_count": 8,
   "id": "a29578da",
   "metadata": {},
   "outputs": [
    {
     "name": "stdout",
     "output_type": "stream",
     "text": [
      "PCA on Houses normalized data\n",
      "First component:  [0.61939756 0.53196549 0.57253022 0.07462259] , variance explained:  56.98292415246885 %\n",
      "Second component:  [-0.1819595   0.32897207  0.01195791 -0.92656631] , variance explained:  27.692204690772282 %\n",
      "Third component:  [ 0.03467355  0.67904879 -0.69781125  0.2252775 ] , variance explained:  11.532010647059122 %\n",
      "Forth component:  [-0.76291228  0.38429525  0.43026227  0.29181568] , variance explained:  3.7928605096997496 %\n"
     ]
    }
   ],
   "source": [
    "pca = PCA(n_components=4)\n",
    "pca.fit(Norm_HCSV[names[0:4]])\n",
    "\n",
    "print(\"PCA on Houses normalized data\")\n",
    "print(\"First component: \", pca.components_[0], \", variance explained: \", 100*pca.explained_variance_ratio_[0], \"%\")\n",
    "print(\"Second component: \", pca.components_[1], \", variance explained: \", 100*pca.explained_variance_ratio_[1], \"%\")\n",
    "print(\"Third component: \", pca.components_[2], \", variance explained: \", 100*pca.explained_variance_ratio_[2], \"%\")\n",
    "print(\"Forth component: \", pca.components_[3], \", variance explained: \", 100*pca.explained_variance_ratio_[3], \"%\")"
   ]
  },
  {
   "cell_type": "code",
   "execution_count": 9,
   "id": "9a7ed836",
   "metadata": {},
   "outputs": [
    {
     "name": "stdout",
     "output_type": "stream",
     "text": [
      "Regression on the first component:\n",
      "Mean RSS =  0.20885638848844335\n",
      "Regression on first and second components:\n",
      "Mean RSS =  0.2057702643614693\n",
      "Regression on the first, second, and third component:\n",
      "Mean RSS =  0.1937985266063509\n",
      "Regression on all components:\n",
      "Mean RSS =  0.16118244781630114\n"
     ]
    }
   ],
   "source": [
    "print(\"Regression on the first component:\")\n",
    "pca2 = PCA(n_components=1)\n",
    "Transformed_HCSV = pca2.fit_transform(Norm_HCSV[names[0:4]]) \n",
    "Y = Norm_HCSV.PRICE \n",
    "LinearReg(Transformed_HCSV,Y)\n",
    "\n",
    "print(\"Regression on first and second components:\")\n",
    "pca2 = PCA(n_components=2)\n",
    "Transformed_HCSV = pca2.fit_transform(Norm_HCSV[names[0:4]]) \n",
    "Y = Norm_HCSV.PRICE \n",
    "LinearReg(Transformed_HCSV,Y)\n",
    "\n",
    "print(\"Regression on the first, second, and third component:\")\n",
    "pca2 = PCA(n_components=3)\n",
    "Transformed_HCSV = pca2.fit_transform(Norm_HCSV[names[0:4]]) \n",
    "Y = Norm_HCSV.PRICE \n",
    "LinearReg(Transformed_HCSV,Y)\n",
    "\n",
    "print(\"Regression on all components:\")\n",
    "pca2 = PCA(n_components=4)\n",
    "Transformed_HCSV = pca2.fit_transform(Norm_HCSV[names[0:4]]) \n",
    "Y = Norm_HCSV.PRICE \n",
    "LinearReg(Transformed_HCSV,Y)"
   ]
  }
 ],
 "metadata": {
  "kernelspec": {
   "display_name": "Python 3 (ipykernel)",
   "language": "python",
   "name": "python3"
  },
  "language_info": {
   "codemirror_mode": {
    "name": "ipython",
    "version": 3
   },
   "file_extension": ".py",
   "mimetype": "text/x-python",
   "name": "python",
   "nbconvert_exporter": "python",
   "pygments_lexer": "ipython3",
   "version": "3.11.5"
  }
 },
 "nbformat": 4,
 "nbformat_minor": 5
}
