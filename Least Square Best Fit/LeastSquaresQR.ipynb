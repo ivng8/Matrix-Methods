{
 "cells": [
  {
   "cell_type": "markdown",
   "id": "1e3da3c8",
   "metadata": {},
   "source": [
    "### Question 7(a) Run the next few cells (before part b) to do the least square problem #6(c) in Homework 2, but now with QR factorization via Householdr reflectors (not solving the normal equation). Compare the results."
   ]
  },
  {
   "cell_type": "code",
   "execution_count": 1,
   "id": "339735d1",
   "metadata": {},
   "outputs": [],
   "source": [
    "# Importing libraries needed\n",
    "import numpy as np  # for matrices, array, linear algebra\n",
    "import pandas as pd  # open source data analysis and manipulation\n",
    "from numpy import *\n",
    "import scipy\n",
    "import scipy.linalg "
   ]
  },
  {
   "cell_type": "code",
   "execution_count": 2,
   "id": "a1bd1fbe",
   "metadata": {},
   "outputs": [],
   "source": [
    "# Code for QR factorization using Householder reflectors\n",
    "\n",
    "def HouseholderQR(A):\n",
    "    #Modify A to be R, returns Q\n",
    "    m,n=A.shape # number of rows and cols of A\n",
    "    H=eye(m) # to accumulate all Hjs\n",
    "    for j in range(n):\n",
    "        Hj=eye(m)\n",
    "        Hj[j:,j:]=hqrstep(A[j:,j:]) #pass the lower-right submatrix of A\n",
    "        H=dot(Hj,H)\n",
    "    Q=H.T\n",
    "    return Q\n",
    "\n",
    "def hqrstep(A):\n",
    "    #Modify A, returns H\n",
    "    m=A.shape[0] # Number of rows of A\n",
    "    z=A[:,0] # First column of A\n",
    "    w=zeros_like(z) #Creates a matrix full of zeros with same size as z\n",
    "    w[0]=linalg.norm(z)\n",
    "    v=w-z\n",
    "    P=outer(v,v)/dot(v,v)\n",
    "    H=eye(m)-2*P # H=I-2P\n",
    "    A[:,:]=dot(H,A)\n",
    "    return H"
   ]
  },
  {
   "cell_type": "code",
   "execution_count": 3,
   "id": "19cc4760",
   "metadata": {},
   "outputs": [
    {
     "name": "stdout",
     "output_type": "stream",
     "text": [
      "The shape of X is (58, 3) and the shape of Y is (58, 1)\n",
      "Least square solution: theta_0= 9662.053547743883 , theta_1= 383.4197320310138 , theta_2= 24.28582034984722\n"
     ]
    }
   ],
   "source": [
    "# Importing the Dataset\n",
    "Newton=pd.read_csv(\"Houses.csv\")\n",
    "\n",
    "# Construct X and Y\n",
    "X1=Newton.LIVING_AREA.values.reshape(-1, 1) # We use two feature variables LIVING_AREA and LOT_SIZE\n",
    "X2=Newton.LOT_SIZE.values.reshape(-1, 1)\n",
    "Xdata = np.array([X1[:,0],X2[:,0]]).T #put the two columns together\n",
    "X=np.vstack([np.ones(Xdata.shape[0]),Xdata.T]).T  # Concatenate Xdata with a column of ones on the left\n",
    "Y=Newton.PRICE.values.reshape(-1, 1)\n",
    "print(\"The shape of X is\", X.shape, \"and the shape of Y is\", Y.shape)\n",
    "\n",
    "Q=HouseholderQR(X) # find QR factorization of X\n",
    "\n",
    "m=X.shape[0] # Number of rows of R (X became R)\n",
    "n=X.shape[1] # Number of columns of R (X became R)\n",
    "\n",
    "R=X[0:n,0:n] # reduced R\n",
    "Q=Q[0:m,0:n] # reduced Q\n",
    "\n",
    "theta=linalg.solve(R,np.matmul(Q.T,Y)) # solve Rx=(Q^T)b\n",
    "\n",
    "print(\"Least square solution: theta_0=\", theta[0][0], \", theta_1=\", theta[1][0], \", theta_2=\", theta[2][0])"
   ]
  },
  {
   "cell_type": "markdown",
   "id": "0f0c77cd",
   "metadata": {},
   "source": [
    "### Question 7(b) Write code to do the least square problem #6(e) in Homework 2, with QR factorization, like above. Compare the results. "
   ]
  },
  {
   "cell_type": "code",
   "execution_count": 4,
   "id": "f841505a",
   "metadata": {},
   "outputs": [
    {
     "name": "stdout",
     "output_type": "stream",
     "text": [
      "The shape of X is (58, 4) and the shape of Y is (58, 1)\n",
      "Least square solution: theta_0= -23033.655605290227 , theta_1= 374.6989883188897 , theta_2= 24.19949343739254\n"
     ]
    }
   ],
   "source": [
    "# Construct X and Y\n",
    "X1=Newton.LIVING_AREA.values.reshape(-1, 1) # We use three feature variables LIVING_AREA, LOT_SIZE, and BEDROOMS\n",
    "X2=Newton.LOT_SIZE.values.reshape(-1, 1)\n",
    "X3=Newton.BEDROOMS.values.reshape(-1, 1)\n",
    "Xdata = np.array([X1[:,0],X2[:,0],X3[:,0]]).T #put the three columns together\n",
    "\n",
    "Y=Newton.PRICE.values.reshape(-1, 1)\n",
    "\n",
    "X = np.vstack([np.ones(Xdata.shape[0]),Xdata.T]).T  # Concatenate Xdata with a column of ones on the left\n",
    "\n",
    "print(\"The shape of X is\", X.shape, \"and the shape of Y is\", Y.shape)\n",
    "\n",
    "Q=HouseholderQR(X) # find QR factorization of X\n",
    "\n",
    "m=X.shape[0] # Number of rows of R (X became R)\n",
    "n=X.shape[1] # Number of columns of R (X became R)\n",
    "\n",
    "R=X[0:n,0:n] # reduced R\n",
    "Q=Q[0:m,0:n] # reduced Q\n",
    "\n",
    "theta=linalg.solve(R,np.matmul(Q.T,Y)) # solve Rx=(Q^T)b\n",
    "\n",
    "print(\"Least square solution: theta_0=\", theta[0][0], \", theta_1=\", theta[1][0], \", theta_2=\", theta[2][0])"
   ]
  },
  {
   "cell_type": "code",
   "execution_count": null,
   "id": "398e1133",
   "metadata": {},
   "outputs": [],
   "source": []
  }
 ],
 "metadata": {
  "kernelspec": {
   "display_name": "Python 3 (ipykernel)",
   "language": "python",
   "name": "python3"
  },
  "language_info": {
   "codemirror_mode": {
    "name": "ipython",
    "version": 3
   },
   "file_extension": ".py",
   "mimetype": "text/x-python",
   "name": "python",
   "nbconvert_exporter": "python",
   "pygments_lexer": "ipython3",
   "version": "3.11.5"
  }
 },
 "nbformat": 4,
 "nbformat_minor": 5
}
